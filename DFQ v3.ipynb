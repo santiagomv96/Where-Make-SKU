{
 "cells": [
  {
   "cell_type": "code",
   "execution_count": 1,
   "metadata": {},
   "outputs": [],
   "source": [
    "import pandas as pd\n",
    "#Importar pyomo\n",
    "from Funciones_Hub_Nutresa_MultiHub import *\n",
    "import datetime\n",
    "import os\n",
    "from pulp import *\n",
    "import random\n"
   ]
  },
  {
   "cell_type": "code",
   "execution_count": null,
   "metadata": {},
   "outputs": [],
   "source": [
    "# Función que crea un diccionario para almacenar cada hoja del archivo de Excel en un dataframe\n",
    "def Diccionario_dataframes_desde_excel(ruta_carpeta,nombre_archivo):\n",
    "    \n",
    "    \"\"\"\n",
    "    Función que crea un diccionario para almacenar cada hoja del archivo de Excel en un dataframe.\n",
    "    \n",
    "    Argumentos:\n",
    "        ruta_carpeta (string): Ruta donde está ubicado el archivo de excel con los datos de entrada para la instancia o escenario que se desea modelar.\n",
    "                             Ejemplo: 'C:\\\\Users\\\\Usuario1\\\\FolderModelo'\n",
    "                             \n",
    "        nombre_archivo (string):  Nombre del archivo de excel con los datos de entrada para la instancia o escenario que se desea modelar.                 \n",
    "                            Ejemplo: 'Instancia1 PL.xlsx'\n",
    "    \n",
    "    Returns:\n",
    "        dict: Diccionario con un dataframe por cada hoja del archivo de Excel.\n",
    "    \"\"\"           \n",
    "    \n",
    "    ruta_instancia=ruta_carpeta +r'\\\\' + nombre_archivo\n",
    "    try:\n",
    "        # Leer el archivo completo de Excel con todo su contenido\n",
    "        excel_data = pd.read_excel(ruta_instancia, sheet_name=None)   \n",
    "        \n",
    "        # Crear un diccionario para almacenar cada hoja del archivo de Excel en un dataframe\n",
    "        dfs = {}\n",
    "        \n",
    "        # Iterar sobre cada pestaña (hoja) del archivo de Excel\n",
    "        for sheet_name, data in excel_data.items():\n",
    "            # Crear un dataframe por cada hoja del archivo\n",
    "            dfs[sheet_name] = pd.DataFrame(data)\n",
    "        \n",
    "        # Imprimir el nombre de cada hoja y los primeros 3 registros de cada dataframe creado (opcional)\n",
    "        #for sheet_name, df in dfs.items():\n",
    "        #    print(f\"DataFrame for sheet: {sheet_name}\")\n",
    "        #    print(df.head(3))  # Print the first few rows of each DataFrame\n",
    "            \n",
    "        # Obtener la lista de dataframes creados\n",
    "        #list_of_dfs = list(dfs.values())\n",
    "\n",
    "        # Obtener la lista de los nombres de cada hoja del archivo de excel\n",
    "        #list_of_sheet_names = list(dfs.keys())\n",
    "        \n",
    "        return dfs\n",
    "    except Exception as e:\n",
    "        print(f\"Error al leer el archivo de Excel: {e}\")\n",
    "        return None\n"
   ]
  },
  {
   "cell_type": "code",
   "execution_count": null,
   "metadata": {},
   "outputs": [],
   "source": [
    "# Especificar la ruta de los archivos de excel que contienen los inputs\n",
    "Ruta_Carpeta_Instancia = r\"\\DFQ\"\n",
    "#Archivo_instancia_opt='Instancia5_Todos los Escenarios de Optimización Proyección.xlsx'\n",
    "Archivo_inputs='Datos pruebas.xlsx'\n",
    "inputs_opt_dfq=Diccionario_dataframes_desde_excel(Ruta_Carpeta_Instancia,Archivo_inputs)\n"
   ]
  },
  {
   "cell_type": "markdown",
   "metadata": {},
   "source": [
    "Definición de conjuntos"
   ]
  },
  {
   "cell_type": "code",
   "execution_count": 3,
   "metadata": {},
   "outputs": [],
   "source": [
    "Plantas=list(set(inputs_opt_dfq['Escalones MOD']['Planta']))\n",
    "Recursos=list(set(inputs_opt_dfq['Escalones MOD']['Recurso']))\n",
    "Materiales=list(set(inputs_opt_dfq['Demanda']['Material']))\n",
    "Materia_prima_carnica=list(set(inputs_opt_dfq['MPC x PT']['Materia Prima Carnica']))\n",
    "Materia_prima_carnica_importada=list(set(inputs_opt_dfq['MPCI x PT']['Materia Prima Carnica Importada']))\n",
    "Materia_prima_no_carnica=list(set(inputs_opt_dfq['MPNC x PT']['Materia Prima NO Carnica']))\n",
    "Cedis=list(set(inputs_opt_dfq['Demanda']['Cedi']))\n",
    "Origenes = list(set(Cedis+Plantas))\n",
    "BOR = list(set(inputs_opt_dfq['BOR']['BOR']))\n",
    "Escalones_MOD=list(set(inputs_opt_dfq['Escalones MOD']['Escalon']))"
   ]
  },
  {
   "cell_type": "markdown",
   "metadata": {},
   "source": [
    "Definición de parametros"
   ]
  },
  {
   "cell_type": "code",
   "execution_count": 4,
   "metadata": {},
   "outputs": [],
   "source": [
    "def crear_diccionario(df, columnas_clave, columna_valor):\n",
    "    \"\"\"\n",
    "    Crea un diccionario a partir de un DataFrame, usando las columnas especificadas como clave y valor.\n",
    "    \n",
    "    :param df: DataFrame de pandas que contiene los datos.\n",
    "    :param columnas_clave: Lista de nombres de las columnas que formarán la clave del diccionario.\n",
    "    :param columna_valor: Nombre de la columna que formará el valor del diccionario.\n",
    "    \n",
    "    :return: Un diccionario con claves formadas por las columnas especificadas y valores correspondientes.\n",
    "    \"\"\"\n",
    "    diccionario = {}\n",
    "    for index, row in df.iterrows():\n",
    "        if len(columnas_clave) == 1:\n",
    "            clave = row[columnas_clave[0]]\n",
    "        else:\n",
    "            clave = tuple(row[col] for col in columnas_clave)\n",
    "        valor = row[columna_valor]\n",
    "        diccionario[clave] = valor\n",
    "    return diccionario"
   ]
  },
  {
   "cell_type": "code",
   "execution_count": 5,
   "metadata": {},
   "outputs": [],
   "source": [
    "\n",
    "Demanda = crear_diccionario(inputs_opt_dfq['Demanda'],['Cedi','Material'],'Cantidad')\n",
    "MPC_x_PT = crear_diccionario(inputs_opt_dfq['MPC x PT'],['Materia Prima Carnica','Planta','BOR','Material'],'Cantidad')\n",
    "MPCI_x_PT = crear_diccionario(inputs_opt_dfq['MPCI x PT'],['Materia Prima Carnica Importada','Planta','BOR','Material'],'Cantidad')\n",
    "MPNC_x_PT = crear_diccionario(inputs_opt_dfq['MPNC x PT'],['Materia Prima NO Carnica','Planta','BOR','Material'],'Cantidad')\n",
    "Costo_Variable = crear_diccionario(inputs_opt_dfq['Costo Variable'],['Planta','Recurso','Material'],'Valor')\n",
    "Unidades_x_Canasta = crear_diccionario(inputs_opt_dfq['Unidades x Canasta'],['Material'],'Valor')\n",
    "Unidades_x_Canasta={clave: 1/valor for clave, valor in Unidades_x_Canasta.items()} #Se genera esta división para que en las restricciones se deba multiplicar y no dividir\n",
    "Costo_x_Unidad_MPNC = crear_diccionario(inputs_opt_dfq['Costo x Unidad MPNC'],['Materia Prima NO Carnica','Planta'],'Valor')\n",
    "Costo_x_Unidad_MPC = crear_diccionario(inputs_opt_dfq['Costo x Unidad MPC'],['Materia Prima Carnica', 'Planta'],'Valor')\n",
    "Costo_x_Unidad_MPCI = crear_diccionario(inputs_opt_dfq['Costo x Unidad MPCI'],['Materia Prima Carnica Importada', 'Planta'],'Valor')\n",
    "MPNC_Puesta_en_planta = crear_diccionario(inputs_opt_dfq['Costo x Unidad MPNC'],['Materia Prima NO Carnica','Planta'],'Puesto en planta')\n",
    "MPC_Puesta_en_planta = crear_diccionario(inputs_opt_dfq['Costo x Unidad MPC'],['Materia Prima Carnica', 'Planta'],'Puesto en planta')\n",
    "MPCI_Puesta_en_planta = crear_diccionario(inputs_opt_dfq['Costo x Unidad MPCI'],['Materia Prima Carnica Importada', 'Planta'],'Puesto en planta')\n",
    "\n",
    "Costo_flete_mpci_a_Planta = crear_diccionario(inputs_opt_dfq['Costo flete MPCI a Planta'],['Planta'],'Valor')\n",
    "Capacidad_Vehiculo_MPCI = crear_diccionario(inputs_opt_dfq['Costo flete MPCI a Planta'],['Planta'],'Capacidad')\n",
    "Costo_flete_mpc_a_Planta = crear_diccionario(inputs_opt_dfq['Costo flete MPC a Planta'],['Planta'],'Valor')\n",
    "Capacidad_Vehiculo_MPC = crear_diccionario(inputs_opt_dfq['Costo flete MPC a Planta'],['Planta'],'Capacidad')\n",
    "Costo_flete_mpnc_a_Planta = crear_diccionario(inputs_opt_dfq['Costo flete MPNC a Planta'],['Planta'],'Valor')\n",
    "Capacidad_Vehiculo_MPNC = crear_diccionario(inputs_opt_dfq['Costo flete MPNC a Planta'],['Planta'],'Capacidad')\n",
    "\n",
    "Costo_ruta = crear_diccionario(inputs_opt_dfq['Arcos Transporte Primario'],['Origen', 'Cedi'],'Costo habilitar frecuencia adicional')\n",
    "Capacidad_ruta = crear_diccionario(inputs_opt_dfq['Arcos Transporte Primario'],['Origen', 'Cedi'],'Capacidad de frecuencia habilitable')\n",
    "Ruta_activa = crear_diccionario(inputs_opt_dfq['Arcos Transporte Primario'],['Origen', 'Cedi'],'Habilitado')\n",
    "\n",
    "Tasa_de_produccion = crear_diccionario(inputs_opt_dfq['Tasa de produccion'],['Planta','Recurso','BOR'],'Cantidad')\n",
    "BOR_material = crear_diccionario(inputs_opt_dfq['BOR'],['Planta','BOR','Material'],'BOR Activa')\n",
    "\n",
    "Costo_escalon = crear_diccionario(inputs_opt_dfq['Escalones MOD'],['Planta','Recurso','Escalon'],'Costo escalon')\n",
    "Horas_maximos= crear_diccionario(inputs_opt_dfq['Escalones MOD'],['Planta','Recurso','Escalon'],'Horas maximas')"
   ]
  },
  {
   "cell_type": "markdown",
   "metadata": {},
   "source": [
    "**Creación del modelo**"
   ]
  },
  {
   "cell_type": "code",
   "execution_count": 6,
   "metadata": {},
   "outputs": [],
   "source": [
    "modelo = LpProblem(\"CostoProyectado\",LpMinimize)"
   ]
  },
  {
   "cell_type": "markdown",
   "metadata": {},
   "source": [
    "Variables de desición"
   ]
  },
  {
   "cell_type": "code",
   "execution_count": 7,
   "metadata": {},
   "outputs": [],
   "source": [
    "\n",
    "##Cantidad a producir del material m, en planta p en el recurso r\n",
    "Horas_activos = LpVariable.dicts('Horas_activos',[(p,r) for p in Plantas for r in Recursos],lowBound=0,cat='Integer')\n",
    "##Cantidad a producir del material m, en planta p en el recurso r\n",
    "Vehiculos_mpc = LpVariable.dicts('Vehiculos_mpc',[(p) for p in Plantas],lowBound=0,cat='Integer')\n",
    "##Cantidad a producir del material m, en planta p en el recurso r\n",
    "Vehiculos_mpci = LpVariable.dicts('Vehiculos_mpci',[(p) for p in Plantas],lowBound=0,cat='Integer')\n",
    "##Cantidad a producir del material m, en planta p en el recurso r\n",
    "Vehiculos_mpnc = LpVariable.dicts('Vehiculos_mpnc',[(p) for p in Plantas],lowBound=0,cat='Integer')\n",
    "##Cantidad a usar de materia prima carnica mp en la planta p\n",
    "Meteria_prima_carnica_planta = LpVariable.dicts('Meteria_prima_carnica_planta',[(mp,p) for mp in Materia_prima_carnica for p in Plantas],lowBound=0,cat='Continuous')\n",
    "##Cantidad a usar de materia prima carnica importada mpi en la planta p\n",
    "Meteria_prima_carnica_importada_planta = LpVariable.dicts('Meteria_prima_carnica_importada_planta',[(mpi,p) for mpi in Materia_prima_carnica_importada for p in Plantas],lowBound=0,cat='Continuous')\n",
    "##Cantidad a usar de materia prima no carnica mn en la planta p\n",
    "Meteria_prima_no_carnica_planta = LpVariable.dicts('Meteria_prima_no_carnica_planta',[(mn,p) for mn in Materia_prima_no_carnica for p in Plantas],lowBound=0,cat='Continuous')\n",
    "##Cantidad a enviar del material m, desde origen o al cedi c\n",
    "Cantidad_enviar = LpVariable.dicts('Cantidad_enviar',[(m,o,c) for m in Materiales for o in Origenes for c in Cedis],lowBound=0,cat='Continuous')\n",
    "##Cantidad a recibir del material m,en el cedi c\n",
    "Cantidad_recibir = LpVariable.dicts('Cantidad_recibir',[(m,c) for m in Materiales for c in Cedis],lowBound=0,cat='Continuous')\n",
    "##Vehiculos a enviar desde origen o al cedi c\n",
    "Vehiculos_Cedi = LpVariable.dicts('Vehiculos_Cedi',[(o,c) for o in Origenes for c in Cedis],lowBound=0,cat='Integer')\n",
    "\n",
    "Cantidad_producir = LpVariable.dicts('Cantidad_producir',[(p,b,m) for m in Materiales for b in BOR for p in Plantas],lowBound=0,cat='Continuous')\n",
    "Cantidad_pasar_recurso = LpVariable.dicts('Cantidad_pasar_recurso',[(p,b,r,m) for r in Recursos for b in BOR for p in Plantas for m in Materiales],lowBound=0,cat='Continuous')\n",
    "producir_BOR = LpVariable.dicts('producir_BOR',[(p,b) for b in BOR for p in Plantas],lowBound=0,cat='Continuous')\n",
    "\n",
    "## Binaria que me indica que escalon voy a prender\n",
    "Escalones_activos = LpVariable.dicts('Escalones_activos',[(p,r,e) for p in Plantas for r in Recursos for e in Escalones_MOD],lowBound=0,cat='Binary')"
   ]
  },
  {
   "cell_type": "markdown",
   "metadata": {},
   "source": [
    "Funcion Objetivo"
   ]
  },
  {
   "cell_type": "code",
   "execution_count": 8,
   "metadata": {},
   "outputs": [],
   "source": [
    "Costo_MOD = LpVariable(\"Costo Mano de obra\")\n",
    "Costo_variable = LpVariable(\"Costo variable\")\n",
    "Transporte_Cedi = LpVariable(\"Costo de transporte pt a CEDI\")\n",
    "Transporte_mpci_planta = LpVariable(\"Costo de transporte mpci a planta\")\n",
    "Transporte_mpc_planta = LpVariable(\"Costo de transporte mpc a planta\")\n",
    "Transporte_mpnc_planta = LpVariable(\"Costo de transporte mpnc a planta\")\n",
    "Costo_MPCI_planta = LpVariable(\"Costo de usar MPCI en planta\")\n",
    "Costo_MPC_planta = LpVariable(\"Costo de usar MPC en planta\")\n",
    "Costo_MPNC_planta = LpVariable(\"Costo de usar MPNC en planta\")\n",
    "costototal = LpVariable(\"Costo total\")"
   ]
  },
  {
   "cell_type": "code",
   "execution_count": 9,
   "metadata": {},
   "outputs": [],
   "source": [
    "# modelo+= Costo_MOD == lpSum(Turnos_activos[p,r]*Costo_turnos[p,r]  for p in Plantas for r in Recursos ) \n",
    "modelo+= Costo_MOD == lpSum(Escalones_activos[p,r,e]*Costo_escalon.get((p,r,e),0)  for p in Plantas for r in Recursos for e in Escalones_MOD) \n",
    "modelo+= Costo_variable == lpSum(Cantidad_pasar_recurso[p,b,r,m]*Costo_Variable.get((p,r,m),0) for b in BOR for m in Materiales for r in Recursos for p in Plantas ) \n",
    "modelo+= Transporte_mpc_planta == lpSum(Vehiculos_mpc[p]*Costo_flete_mpc_a_Planta[p] for p in Plantas )\n",
    "modelo+= Transporte_mpci_planta == lpSum(Vehiculos_mpci[p]*Costo_flete_mpci_a_Planta[p] for p in Plantas )\n",
    "modelo+= Transporte_mpnc_planta == lpSum(Vehiculos_mpnc[p]*Costo_flete_mpnc_a_Planta[p] for p in Plantas )\n",
    "modelo+= Costo_MPC_planta == lpSum(Meteria_prima_carnica_planta[mp,p]*Costo_x_Unidad_MPC[mp,p] for mp in Materia_prima_carnica for p in Plantas)\n",
    "modelo+= Costo_MPCI_planta == lpSum(Meteria_prima_carnica_importada_planta[mpi,p]*Costo_x_Unidad_MPCI[mpi,p] for mpi in Materia_prima_carnica_importada for p in Plantas)\n",
    "modelo+= Costo_MPNC_planta == lpSum(Meteria_prima_no_carnica_planta[mn,p]*Costo_x_Unidad_MPNC[mn,p] for mn in Materia_prima_no_carnica for p in Plantas )\n",
    "modelo+= Transporte_Cedi == lpSum(Vehiculos_Cedi[o,c]*Costo_ruta.get((o,c),0) for c in Cedis for o in Origenes )\n",
    "\n",
    "modelo+= costototal == Costo_MOD + Costo_variable + Transporte_Cedi + Transporte_mpc_planta + Costo_MPC_planta + Costo_MPNC_planta + Transporte_mpnc_planta +Transporte_mpci_planta + Costo_MPCI_planta\n",
    "modelo+= costototal"
   ]
  },
  {
   "cell_type": "markdown",
   "metadata": {},
   "source": [
    "**Restricciones**"
   ]
  },
  {
   "cell_type": "markdown",
   "metadata": {},
   "source": [
    "Restricciones nuevas o con cambios"
   ]
  },
  {
   "cell_type": "code",
   "execution_count": 10,
   "metadata": {},
   "outputs": [],
   "source": [
    "# # Sumar turnos activos de todos los recursos\n",
    "for p in Plantas:\n",
    "    for r in Recursos:\n",
    "        # if Tasa_de_produccion.get((p,r,b),0):            \n",
    "            modelo += lpSum(Cantidad_pasar_recurso[p,b,r,m] * (1 /Tasa_de_produccion.get((p,r,b),0.00001)) for b in BOR for m in Materiales) <= Horas_activos[p,r] \n",
    "\n",
    "# # Cantidad a producir usando la BOR b en la planta p, ligado al recurso con menor capacidad\n",
    "for p in Plantas:    \n",
    "    for b in BOR:\n",
    "        for r in Recursos:\n",
    "            if Tasa_de_produccion.get((p,r,b),0):\n",
    "                modelo += producir_BOR[p,b]  <= Tasa_de_produccion.get((p,r,b),0) * Horas_activos[p,r] , f\"Cantidad producir usando la BOR {b} en la planta {p}, ligado al recurso {r} con menor capacidad identificador {random.randint(1, 10000)}\" \n",
    "\n",
    "# # Cantidad de a producir usando la BOR b en la planta p en el recurso r \n",
    "for p in Plantas:\n",
    "    for b in BOR:\n",
    "        for r in Recursos:\n",
    "            for m in Materiales:\n",
    "                if Tasa_de_produccion.get((p,r,b),0):\n",
    "                    modelo += producir_BOR[p,b] * (BOR_material.get((p,b,m),0)) == Cantidad_pasar_recurso[p,b,r,m] ,f\"Cantidad de a producir usando la BOR {b} en la planta {p} en el recurso {r}  identificador {random.randint(1, 10000)}\" \n",
    "\n",
    "# # cantidad producida del material m es mayor a la cantidad enviada  a todos los cedis desde la planta p\n",
    "for m in Materiales:\n",
    "    for p in Plantas:\n",
    "        modelo += lpSum(Cantidad_producir[p,b,m] for b in BOR) >= lpSum(Cantidad_enviar[m,p,c] for c in Cedis) , f\"cantidad producida del material {m} es mayor a la demanda identificador {random.randint(1, 10000)}\" \n",
    "\n",
    "# # Cantidad a producir del material m usando la BOR b en la planta p\n",
    "for p in Plantas:\n",
    "    for b in BOR:\n",
    "        for m in Materiales:\n",
    "             modelo += producir_BOR[p,b] * (BOR_material.get((p,b,m),0))  >= Cantidad_producir[p,b,m] ,f\"# # Cantidad a producir del material {m} usando la BOR {b} en la planta {p} identificador {random.randint(1, 10000)}\" \n",
    "\n",
    "# # Activar horas dentro de los escalones habilitados\n",
    "for p in Plantas:\n",
    "    for r in Recursos:         \n",
    "        modelo += Horas_activos[p,r] <= lpSum(Horas_maximos.get((p,r,e),0) * Escalones_activos[p,r,e] for e in Escalones_MOD), f\"# # escalones activos planta  {p} recurso {r} identificador {random.randint(1, 10000)}\" \n",
    "  \n",
    "#Solo puedo activar un escalon\n",
    "for p in Plantas:\n",
    "    for r in Recursos:         \n",
    "       modelo += 1 >= lpSum(Escalones_activos[p,r,e] for e in Escalones_MOD), f\"## máximo escalones activosplanta  {p} recurso {r} identificador {random.randint(1, 10000)}\" \n",
    "\n",
    "# Consumo de mpnc \n",
    "for p in Plantas:\n",
    "    for mn in Materia_prima_no_carnica:\n",
    "        modelo +=  lpSum(Cantidad_producir[p,b,m] * MPNC_x_PT.get((mn,p,b,m),0) for m in Materiales for b in BOR) <= Meteria_prima_no_carnica_planta[mn,p] , f\"Materia prima no carnica {mn} en planta {p} identificador {random.randint(1, 100)}\" \n",
    "                            \n",
    "# Cantidad de vehiculos MPNC a enviar, se resta 1 porque si es puesta en planta no deberia ocupar capacidad de los vehiculos \n",
    "for p in Plantas:\n",
    "    modelo +=  lpSum(Meteria_prima_no_carnica_planta[mn,p] * (1-MPNC_Puesta_en_planta[mn,p]) for mn in Materia_prima_no_carnica) <= Vehiculos_mpnc[p] * Capacidad_Vehiculo_MPNC[p] , f\" vehiculos mpnc a planta {p} identificador {random.randint(1, 100)}\" \n",
    "   \n",
    "# Consumo de mpc \n",
    "for p in Plantas:\n",
    "    for mp in Materia_prima_carnica:\n",
    "        modelo +=  lpSum(Cantidad_producir[p,b,m] * MPC_x_PT.get((mp,p,b,m),0) for m in Materiales for b in BOR) <= Meteria_prima_carnica_planta[mp,p] , f\"Materia prima  carnica {mp} en planta {p} identificador {random.randint(1, 100)}\" \n",
    "            \n",
    "# Cantidad de vehiculos MPC a enviar, se resta 1 porque si es puesta en planta no deberia ocupar capacidad de los vehiculos  \n",
    "for p in Plantas:\n",
    "    modelo +=  lpSum(Meteria_prima_carnica_planta[mp,p] * (1-MPC_Puesta_en_planta[mp,p]) for mp in Materia_prima_carnica) <= Vehiculos_mpc[p] * Capacidad_Vehiculo_MPC[p] , f\" vehiculos mpc a planta {p} identificador {random.randint(1, 100)}\" \n",
    "                \n",
    "# Consumo de mpci \n",
    "for p in Plantas:\n",
    "    for mpi in Materia_prima_carnica_importada:\n",
    "        modelo +=  lpSum(Cantidad_producir[p,b,m] * MPCI_x_PT.get((mpi,p,b,m),0) for m in Materiales for b in BOR) <= Meteria_prima_carnica_importada_planta[mpi,p] , f\"Materia prima  carnica {mpi} en planta {p} identificador {random.randint(1, 100)}\" \n",
    "            \n",
    "# Cantidad de vehiculos MPCi a enviar, se resta 1 porque si es puesta en planta no deberia ocupar capacidad de los vehiculos  \n",
    "for p in Plantas:\n",
    "    modelo +=  lpSum(Meteria_prima_carnica_importada_planta[mpi,p] * (1-MPCI_Puesta_en_planta[mpi,p]) for mpi in Materia_prima_carnica_importada) <= Vehiculos_mpci[p] * Capacidad_Vehiculo_MPCI[p] , f\" vehiculos mpci a planta {p} identificador {random.randint(1, 100)}\" \n",
    "            \n",
    "#recibo en cedi todo lo que se envia desde todos los origenes\n",
    "for c in Cedis:\n",
    "    for m in Materiales:\n",
    "        modelo += Cantidad_recibir[m,c] == lpSum(Cantidad_enviar[m,o,c] * Ruta_activa.get((o,c),0) for o in Origenes) , f\" Cantidad de material {m} recibido en Cedi {c} {random.randint(1, 100)}\"  \n",
    "\n",
    "\n",
    "#envio menos de lo que recibo y menos la demanda del cedi\n",
    "for o in Cedis:\n",
    "    for m in Materiales:\n",
    "        modelo += lpSum(Cantidad_enviar[m,o,c] for c in Cedis) <= Cantidad_recibir[m,o] - Demanda.get((o,m),0) , f\"cantidad a enviar del material {m} desde el origen {o} identificador {random.randint(1, 100)}\" \n",
    "\n",
    "#Recibo minimo la demanda\n",
    "for c in Cedis:\n",
    "    for m in Materiales:\n",
    "       modelo +=  Demanda.get((c,m),0) <= Cantidad_recibir[m,c]  , f\"Cantidad a recibir del material {m} en el cedi {c}\"\n",
    "\n",
    "# Calculo cantidad de vehiculos\n",
    "for o in Origenes:\n",
    "    for c in Cedis:\n",
    "        modelo += Capacidad_ruta.get((o,c),0)*Vehiculos_Cedi[o,c] >= lpSum(Cantidad_enviar[m,o,c]*Unidades_x_Canasta[m] for m in Materiales) , f\"Cantidad de vehiculos de {o} a {c}\"\n",
    " "
   ]
  },
  {
   "cell_type": "code",
   "execution_count": 11,
   "metadata": {},
   "outputs": [
    {
     "name": "stdout",
     "output_type": "stream",
     "text": [
      "Optimal\n",
      "Status: Optimal\n",
      "Costo de la operación =  81.0\n",
      "Resultados guardados en 'resultados_optimización.xlsx'\n"
     ]
    }
   ],
   "source": [
    "# Supongamos que ya has resuelto el modelo\n",
    "modelo.solve()\n",
    "\n",
    "# Obtener el estado del modelo\n",
    "estado_modelo = LpStatus[modelo.status]\n",
    "print(estado_modelo)\n",
    "costo_operacion = value(modelo.objective)\n",
    "\n",
    "# Imprimir el estado del modelo y el costo de la operación\n",
    "print(\"Status:\", estado_modelo)\n",
    "print(\"Costo de la operación = \", costo_operacion)\n",
    "\n",
    "# Extraer valores de las variables de decisión\n",
    "valores_variables = [{'Variable': v.name, 'Valor': v.varValue} for v in modelo.variables()]\n",
    "\n",
    "# Extraer precios sombra y holguras de las restricciones\n",
    "sensibilidad = [{'Restricción': i, 'Precio sombra': j.pi, 'Holgura': j.slack}\n",
    "                for i, j in modelo.constraints.items()]\n",
    "\n",
    "# Convertir a DataFrames\n",
    "df_variables = pd.DataFrame(valores_variables)\n",
    "df_sensibilidad = pd.DataFrame(sensibilidad)\n",
    "\n",
    "# Guardar los resultados en un archivo Excel\n",
    "with pd.ExcelWriter('resultados_optimización.xlsx') as writer:\n",
    "    # Guardar estado del modelo y costo de operación\n",
    "    pd.DataFrame({'Estado del modelo': [estado_modelo], 'Costo de la operación': [costo_operacion]}).to_excel(writer, sheet_name='Resumen', index=False)\n",
    "    # Guardar valores de las variables\n",
    "    df_variables.to_excel(writer, sheet_name='Valores Variables', index=False)\n",
    "    # Guardar precios sombra y holguras\n",
    "    df_sensibilidad.to_excel(writer, sheet_name='Sensibilidad', index=False)\n",
    "\n",
    "print(\"Resultados guardados en 'resultados_optimización.xlsx'\")"
   ]
  }
 ],
 "metadata": {
  "kernelspec": {
   "display_name": "Python 3",
   "language": "python",
   "name": "python3"
  },
  "language_info": {
   "codemirror_mode": {
    "name": "ipython",
    "version": 3
   },
   "file_extension": ".py",
   "mimetype": "text/x-python",
   "name": "python",
   "nbconvert_exporter": "python",
   "pygments_lexer": "ipython3",
   "version": "3.11.3"
  }
 },
 "nbformat": 4,
 "nbformat_minor": 2
}
